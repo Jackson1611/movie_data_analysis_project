{
 "cells": [
  {
   "cell_type": "code",
   "execution_count": 12,
   "id": "95a427dc-bf35-4c7e-a945-63e2cc290eb4",
   "metadata": {},
   "outputs": [
    {
     "name": "stdout",
     "output_type": "stream",
     "text": [
      "                Brand        Total  Releases  \\\n",
      "0       Marvel Comics  15806336901        69   \n",
      "1  Legendary Pictures   7018798067        56   \n",
      "2           Lucasfilm   6325022918        39   \n",
      "3               Pixar   6078217662        28   \n",
      "4           DC Comics   5815645953        46   \n",
      "\n",
      "                                   #1 Release  Lifetime Gross  \n",
      "0                           Avengers: Endgame       858373000  \n",
      "1                              Jurassic World       652270625  \n",
      "2  Star Wars: Episode VII - The Force Awakens       936662225  \n",
      "3                               Incredibles 2       608581744  \n",
      "4                             The Dark Knight       533345358  \n"
     ]
    }
   ],
   "source": [
    "import pandas as pd\n",
    "import matplotlib.pyplot as plt\n",
    "import seaborn as sns\n",
    "\n",
    "# Read the data from the CSV file in the 'data' folder\n",
    "movies_df = pd.read_csv('data/movie.csv', sep='\\t')\n",
    "\n",
    "# Display the first few rows of the dataframe\n",
    "print(movies_df.head())\n"
   ]
  },
  {
   "cell_type": "code",
   "execution_count": 14,
   "id": "02dfb1d8-977c-499f-917e-761abcc7ab56",
   "metadata": {},
   "outputs": [
    {
     "name": "stdout",
     "output_type": "stream",
     "text": [
      "                                    #1 Release   Lifetime Gross\n",
      "2   Star Wars: Episode VII - The Force Awakens  $936,662,225.00\n",
      "7   Star Wars: Episode VII - The Force Awakens  $936,662,225.00\n",
      "0                            Avengers: Endgame  $858,373,000.00\n",
      "1                               Jurassic World  $652,270,625.00\n",
      "3                                Incredibles 2  $608,581,744.00\n",
      "4                              The Dark Knight  $533,345,358.00\n",
      "8                                    Frozen II  $477,373,578.00\n",
      "5                                      Shrek 2  $441,226,247.00\n",
      "11         Transformers: Revenge of the Fallen  $402,111,870.00\n",
      "9                      The Secret Life of Pets  $368,384,330.00\n"
     ]
    }
   ],
   "source": [
    "# Sort the DataFrame by Lifetime Gross in descending order to find the top movies\n",
    "top_movies = movies_df.sort_values(by='Lifetime Gross', ascending=False).head(10)\n",
    "\n",
    "# Format 'Lifetime Gross' column to display revenue in dollars\n",
    "top_movies['Lifetime Gross'] = top_movies['Lifetime Gross'].apply(lambda x: '${:,.2f}'.format(x))\n",
    "\n",
    "# Select only 'Brand' and '#1 Release' columns\n",
    "top_movies = top_movies[[ '#1 Release', 'Lifetime Gross']]\n",
    "\n",
    "# Print the top movies\n",
    "print(top_movies)\n"
   ]
  },
  {
   "cell_type": "code",
   "execution_count": null,
   "id": "68b06bf4-639f-4447-ab54-2c61bb2e5706",
   "metadata": {},
   "outputs": [],
   "source": []
  }
 ],
 "metadata": {
  "kernelspec": {
   "display_name": "Python 3 (ipykernel)",
   "language": "python",
   "name": "python3"
  },
  "language_info": {
   "codemirror_mode": {
    "name": "ipython",
    "version": 3
   },
   "file_extension": ".py",
   "mimetype": "text/x-python",
   "name": "python",
   "nbconvert_exporter": "python",
   "pygments_lexer": "ipython3",
   "version": "3.12.1"
  }
 },
 "nbformat": 4,
 "nbformat_minor": 5
}
